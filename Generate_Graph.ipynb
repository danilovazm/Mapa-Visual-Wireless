{
 "cells": [
  {
   "cell_type": "code",
   "execution_count": null,
   "metadata": {},
   "outputs": [],
   "source": [
    "!pip install python-igraph\n",
    "!pip install pycairo"
   ]
  },
  {
   "cell_type": "code",
   "execution_count": null,
   "metadata": {},
   "outputs": [],
   "source": [
    "import csv \n",
    "import pandas as pd\n",
    "from igraph import *\n",
    "import cairo"
   ]
  },
  {
   "cell_type": "code",
   "execution_count": null,
   "metadata": {},
   "outputs": [],
   "source": [
    "rows=[]\n",
    "\n",
    "# Modify here the path to the .csv file\n",
    "path = \"samples_adriano/myOutput2G-01.csv\"\n",
    "with open(path, newline='') as f:\n",
    "    csvreader = csv.reader(f)\n",
    "    next(csvreader)\n",
    "    for row in csvreader:\n",
    "        if not row:\n",
    "            break\n",
    "        rows.append(row)\n",
    "df = pd.DataFrame(rows[1:], columns=rows[0])"
   ]
  },
  {
   "cell_type": "code",
   "execution_count": null,
   "metadata": {},
   "outputs": [],
   "source": [
    "g = Graph()\n",
    "g\n",
    "g.add_vertices(len(df)+1)\n",
    "for i in range(len(g.vs)):\n",
    "    g.vs[i][\"id\"]= i\n",
    "    if i == 0:\n",
    "        g.vs[i][\"label\"] = \"My PC\"\n",
    "        g.vs[i][\"color\"] = \"red\"\n",
    "    else:\n",
    "        g.vs[i][\"label\"]= (df.iloc[i-1,0], df.iloc[i-1,-2])\n",
    "        g.vs[i][\"color\"] = \"blue\"\n",
    "\n",
    "edges = []\n",
    "for i in range(len(df)):\n",
    "    edges.append((0,i+1))\n",
    "\n",
    "g.add_edges(edges)\n",
    "\n",
    "weights = []\n",
    "weights_dist = []\n",
    "for i in range(len(df)):\n",
    "    weights_dist.append(1/(int(df.iloc[i,8])*-1))\n",
    "    weights.append((int(df.iloc[i,8])*-1))\n",
    "g.es['weight'] = weights_dist\n",
    "g.es['label'] = weights\n",
    "\n",
    "\n",
    "\n",
    "visual_style = {}\n",
    "out_name = \"graph.png\"\n",
    "\n",
    "visual_style[\"bbox\"] = (8000,8000)\n",
    "visual_style[\"vertex_dist\"] = weights\n",
    "visual_style[\"vertex_size\"] = 15\n",
    "visual_style[\"vertex_label_size\"] = 15\n",
    "visual_style[\"edge_show_label\"] = True\n",
    "visual_style[\"edge_curved\"] = False\n",
    "\n",
    "my_layout = g.layout_fruchterman_reingold(weights=g.es['weight'])\n",
    "visual_style[\"layout\"] = my_layout\n",
    "\n",
    "plot(g, out_name, **visual_style)\n",
    "print(\"Plotted\")"
   ]
  }
 ],
 "metadata": {
  "kernelspec": {
   "display_name": "Python 3",
   "language": "python",
   "name": "python3"
  },
  "language_info": {
   "codemirror_mode": {
    "name": "ipython",
    "version": 3
   },
   "file_extension": ".py",
   "mimetype": "text/x-python",
   "name": "python",
   "nbconvert_exporter": "python",
   "pygments_lexer": "ipython3",
   "version": "3.7.3"
  }
 },
 "nbformat": 4,
 "nbformat_minor": 2
}
